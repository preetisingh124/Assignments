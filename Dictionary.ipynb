{
  "nbformat": 4,
  "nbformat_minor": 0,
  "metadata": {
    "colab": {
      "name": "Dictionary",
      "provenance": [],
      "include_colab_link": true
    },
    "kernelspec": {
      "display_name": "Python 3",
      "name": "python3"
    },
    "language_info": {
      "name": "python"
    }
  },
  "cells": [
    {
      "cell_type": "markdown",
      "metadata": {
        "id": "view-in-github",
        "colab_type": "text"
      },
      "source": [
        "<a href=\"https://colab.research.google.com/github/preetisingh124/Assignments/blob/main/Dictionary.ipynb\" target=\"_parent\"><img src=\"https://colab.research.google.com/assets/colab-badge.svg\" alt=\"Open In Colab\"/></a>"
      ]
    },
    {
      "cell_type": "markdown",
      "metadata": {
        "id": "i2kNYsrILwtw"
      },
      "source": [
        ""
      ]
    },
    {
      "cell_type": "code",
      "metadata": {
        "colab": {
          "base_uri": "https://localhost:8080/"
        },
        "id": "wTGuZoSFLzk5",
        "outputId": "e82f4323-b42b-4551-abec-f3b002fe6427"
      },
      "source": [
        "Dict = dict([(1, 'preeti'), (2, 'For')])\n",
        "print(\"\\nDictionary with each item as a pair: \")\n",
        "print(Dict)"
      ],
      "execution_count": null,
      "outputs": [
        {
          "output_type": "stream",
          "text": [
            "\n",
            "Dictionary with each item as a pair: \n",
            "{1: 'preeti', 2: 'For'}\n"
          ],
          "name": "stdout"
        }
      ]
    },
    {
      "cell_type": "code",
      "metadata": {
        "id": "TwNQIUG-XzSg"
      },
      "source": [
        "animal_list = [\"cat\",\"cat\",\"cat\",\"dog\",\"dog\",\"camel\",\"wolf\"]\n",
        "import collections\n",
        "animal_count = collections.Counter(animal_list)"
      ],
      "execution_count": null,
      "outputs": []
    },
    {
      "cell_type": "code",
      "metadata": {
        "id": "7Jq7MDk69Yhg"
      },
      "source": [
        "animal_list = [\"cat\",\"cat\",\"cat\",\"dog\",\"dog\",\"camel\",\"wolf\"]\n",
        "import collections\n",
        "animal_count = collections.Counter(animal_list)"
      ],
      "execution_count": null,
      "outputs": []
    },
    {
      "cell_type": "code",
      "metadata": {
        "id": "gHnVMzpRYrrv"
      },
      "source": [
        "import collections\n",
        "animal_list = [\"cat\",\"cat\",\"cat\",\"dog\",\"dog\",\"camel\",\"wolf\"]\n",
        "animal_count = collections.Counter(animal_list)"
      ],
      "execution_count": null,
      "outputs": []
    },
    {
      "cell_type": "code",
      "metadata": {
        "id": "AyvDWhAWZSRT",
        "colab": {
          "base_uri": "https://localhost:8080/",
          "height": 234
        },
        "outputId": "16f0ada6-8b2e-4783-ccfa-c804b2a9bc68"
      },
      "source": [
        "cnt = Counter()\n",
        ">>> for word in ['red', 'blue', 'red', 'green', 'blue', 'blue']:\n",
        "...     cnt[word] += 1\n",
        ">>> cnt\n",
        "Counter({'blue': 3, 'red': 2, 'green': 1})\n",
        "\n",
        ">>> # Find the ten most common words in Hamlet\n",
        ">>> import re\n",
        ">>> words = re.findall(r'\\w+', open('hamlet.txt').read().lower())\n",
        ">>> Counter(words).most_common(10)\n",
        "[('the', 1143), ('and', 966), ('to', 762), ('of', 669), ('i', 631),\n",
        " ('you', 554),  ('a', 546), ('my', 514), ('hamlet', 471), ('in', 451)]"
      ],
      "execution_count": null,
      "outputs": [
        {
          "output_type": "error",
          "ename": "NameError",
          "evalue": "ignored",
          "traceback": [
            "\u001b[0;31m---------------------------------------------------------------------------\u001b[0m",
            "\u001b[0;31mNameError\u001b[0m                                 Traceback (most recent call last)",
            "\u001b[0;32m<ipython-input-20-08db35a574c8>\u001b[0m in \u001b[0;36m<module>\u001b[0;34m()\u001b[0m\n\u001b[0;32m----> 1\u001b[0;31m \u001b[0mcnt\u001b[0m \u001b[0;34m=\u001b[0m \u001b[0mCounter\u001b[0m\u001b[0;34m(\u001b[0m\u001b[0;34m)\u001b[0m\u001b[0;34m\u001b[0m\u001b[0;34m\u001b[0m\u001b[0m\n\u001b[0m\u001b[1;32m      2\u001b[0m \u001b[0;32mfor\u001b[0m \u001b[0mword\u001b[0m \u001b[0;32min\u001b[0m \u001b[0;34m[\u001b[0m\u001b[0;34m'red'\u001b[0m\u001b[0;34m,\u001b[0m \u001b[0;34m'blue'\u001b[0m\u001b[0;34m,\u001b[0m \u001b[0;34m'red'\u001b[0m\u001b[0;34m,\u001b[0m \u001b[0;34m'green'\u001b[0m\u001b[0;34m,\u001b[0m \u001b[0;34m'blue'\u001b[0m\u001b[0;34m,\u001b[0m \u001b[0;34m'blue'\u001b[0m\u001b[0;34m]\u001b[0m\u001b[0;34m:\u001b[0m\u001b[0;34m\u001b[0m\u001b[0;34m\u001b[0m\u001b[0m\n\u001b[1;32m      3\u001b[0m     \u001b[0mcnt\u001b[0m\u001b[0;34m[\u001b[0m\u001b[0mword\u001b[0m\u001b[0;34m]\u001b[0m \u001b[0;34m+=\u001b[0m \u001b[0;36m1\u001b[0m\u001b[0;34m\u001b[0m\u001b[0;34m\u001b[0m\u001b[0m\n\u001b[1;32m      4\u001b[0m \u001b[0mcnt\u001b[0m\u001b[0;34m\u001b[0m\u001b[0;34m\u001b[0m\u001b[0m\n\u001b[1;32m      5\u001b[0m \u001b[0mCounter\u001b[0m\u001b[0;34m(\u001b[0m\u001b[0;34m{\u001b[0m\u001b[0;34m'blue'\u001b[0m\u001b[0;34m:\u001b[0m \u001b[0;36m3\u001b[0m\u001b[0;34m,\u001b[0m \u001b[0;34m'red'\u001b[0m\u001b[0;34m:\u001b[0m \u001b[0;36m2\u001b[0m\u001b[0;34m,\u001b[0m \u001b[0;34m'green'\u001b[0m\u001b[0;34m:\u001b[0m \u001b[0;36m1\u001b[0m\u001b[0;34m}\u001b[0m\u001b[0;34m)\u001b[0m\u001b[0;34m\u001b[0m\u001b[0;34m\u001b[0m\u001b[0m\n",
            "\u001b[0;31mNameError\u001b[0m: name 'Counter' is not defined"
          ]
        }
      ]
    },
    {
      "cell_type": "code",
      "metadata": {
        "id": "_BNQycoCBa8h",
        "colab": {
          "base_uri": "https://localhost:8080/"
        },
        "outputId": "604b26a7-1625-4995-c6d2-b1e51f64bf58"
      },
      "source": [
        "import sys\n",
        "\n",
        "# sample Tuples\n",
        "Tuple1 = (\"A\", 1, \"B\", 2, \"C\", 3)\n",
        "Tuple2 = (\"Geek1\", \"Raju\", \"Geek2\", \"Nikhil\", \"Geek3\", \"Deepanshu\")\n",
        "Tuple3 = ((1, \"Lion\"), ( 2, \"Tiger\"), (3, \"Fox\"), (4, \"Wolf\"))\n",
        "\n",
        "# print the sizes of sample Tuples\n",
        "print(\"Size of Tuple1: \" + str(sys.getsizeof(Tuple1)) + \"bytes\")\n",
        "print(\"Size of Tuple2: \" + str(sys.getsizeof(Tuple2)) + \"bytes\")\n",
        "print(\"Size of Tuple3: \" + str(sys.getsizeof(Tuple3)) + \"bytes\")\n"
      ],
      "execution_count": null,
      "outputs": [
        {
          "output_type": "stream",
          "text": [
            "Size of Tuple1: 104bytes\n",
            "Size of Tuple2: 104bytes\n",
            "Size of Tuple3: 88bytes\n"
          ],
          "name": "stdout"
        }
      ]
    },
    {
      "cell_type": "code",
      "metadata": {
        "id": "-8hA2-JagXsM"
      },
      "source": [
        ""
      ],
      "execution_count": null,
      "outputs": []
    },
    {
      "cell_type": "code",
      "metadata": {
        "colab": {
          "base_uri": "https://localhost:8080/"
        },
        "id": "bhUXsJPOgQO5",
        "outputId": "5c9fcffa-4a93-4c3e-c243-d88b0d1a2488"
      },
      "source": [
        "import json\n",
        "a={\"name\":\"preeti\",\"age\":25}\n",
        "print(a)"
      ],
      "execution_count": null,
      "outputs": [
        {
          "output_type": "stream",
          "text": [
            "{'name': 'preeti', 'age': 25}\n"
          ],
          "name": "stdout"
        }
      ]
    },
    {
      "cell_type": "code",
      "metadata": {
        "colab": {
          "base_uri": "https://localhost:8080/"
        },
        "id": "6ZThDlUm9bac",
        "outputId": "abfec3aa-1933-43ae-8092-e976eae2acfb"
      },
      "source": [
        "\n",
        "def evenOdd(x):\n",
        "\tif (x % 2 == 0):\n",
        "\t\tprint (\"even\")\n",
        "\telse:\n",
        "\t\tprint (\"odd\")\n",
        "\n",
        "evenOdd(2)\n",
        "evenOdd(3)\n"
      ],
      "execution_count": null,
      "outputs": [
        {
          "output_type": "stream",
          "text": [
            "even\n",
            "odd\n"
          ],
          "name": "stdout"
        }
      ]
    },
    {
      "cell_type": "code",
      "metadata": {
        "colab": {
          "base_uri": "https://localhost:8080/"
        },
        "id": "vIlUH29_-UZt",
        "outputId": "27f0dc36-fe21-4510-e91e-32022514082f"
      },
      "source": [
        "def say_Hi():\n",
        "\t\"Hello! preeti!\"\n",
        "print(say_Hi.__doc__)\n"
      ],
      "execution_count": null,
      "outputs": [
        {
          "output_type": "stream",
          "text": [
            "Hello! preeti!\n"
          ],
          "name": "stdout"
        }
      ]
    },
    {
      "cell_type": "code",
      "metadata": {
        "colab": {
          "base_uri": "https://localhost:8080/"
        },
        "id": "CrhbJJX0-yoF",
        "outputId": "f8e228ac-2fdc-4b97-8d75-526af77b84ff"
      },
      "source": [
        "def square_value(num):\n",
        "    return num**2\n",
        "print(square_value(2))\n",
        "print(square_value(-4))\n"
      ],
      "execution_count": null,
      "outputs": [
        {
          "output_type": "stream",
          "text": [
            "4\n",
            "16\n"
          ],
          "name": "stdout"
        }
      ]
    },
    {
      "cell_type": "code",
      "metadata": {
        "colab": {
          "base_uri": "https://localhost:8080/"
        },
        "id": "plolcQoP7iXX",
        "outputId": "8658fc45-2b92-4f69-c4bb-bdb909005a2d"
      },
      "source": [
        "#import module regex\n",
        "import re\n",
        "\n",
        "name = \"My name is Preeti\"\n",
        "print(\"The original string is : \" + name)\n",
        "# Check for spaces\n",
        "res = bool(re.search(r\"\\s\", name))\n",
        "print(\"Does string contain spaces ? \" + str(res))"
      ],
      "execution_count": null,
      "outputs": [
        {
          "output_type": "stream",
          "text": [
            "The original string is : My name is Preeti\n",
            "Does string contain spaces ? True\n"
          ],
          "name": "stdout"
        }
      ]
    }
  ]
}